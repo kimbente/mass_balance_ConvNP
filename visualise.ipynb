{
 "cells": [
  {
   "cell_type": "code",
   "execution_count": 1,
   "metadata": {},
   "outputs": [],
   "source": [
    "import xarray\n",
    "import numpy as np\n",
    "import matplotlib as mpl\n",
    "\n",
    "import matplotlib.pyplot as plt  # plotting library\n",
    "\n",
    "# Issue: Maybe downgrade shapely pip install shapely ==1.8.5\n",
    "import cartopy.crs as ccrs  # Projections list\n",
    "import cartopy.feature as cfeature # for coastlines\n",
    "\n",
    "import plotly.graph_objects as go"
   ]
  },
  {
   "cell_type": "markdown",
   "metadata": {},
   "source": [
    "# Replicate NASA colorscales\n",
    "\n",
    "https://svs.gsfc.nasa.gov/31158/"
   ]
  },
  {
   "cell_type": "code",
   "execution_count": 109,
   "metadata": {},
   "outputs": [],
   "source": [
    "cvals  = [0., 0.15, 0.3, 0.45, 0.5, 1.]\n",
    "colors = [\"#371229\", \"#B6222B\", \"#FF8E35\", \"#FCDC79\", \"white\", \"#62C3DB\"]\n",
    "\n",
    "norm = plt.Normalize(np.min(cvals), np.max(cvals))\n",
    "tuples = list(zip(map(norm, cvals), colors))\n",
    "nasa_cmap = mpl.colors.LinearSegmentedColormap.from_list(\"\", tuples)\n",
    "\n",
    "# Heatmap requres a colorscale with a list of tuples\n",
    "nasa_cscale = [(0,\"#371229\"),(0.15,\"#B6222B\"),(0.3,\"#FF8E35\"),(0.45,\"#FCDC79\"),(0.5,\"white\"), (1,\"#62C3DB\")]"
   ]
  },
  {
   "cell_type": "code",
   "execution_count": 55,
   "metadata": {},
   "outputs": [],
   "source": [
    "# Load the data\n",
    "gmb = xarray.open_dataset(\n",
    "    \"/home/kim/new_massbalance/mass_balance_ConvNP/data/GRACE_GFZ/GRAVIS-3_2002095-2023334_COSTG_0100_AIS_GRID_TUD_0003.nc\")\n",
    "\n",
    "# Convert to kg my multiplying by m^2, convert to gt by dividing by 1e12\n",
    "# Set new item in xarray dataset\n",
    "# coordinates are swopped this way\n",
    "gmb[\"dm_gt\"] = ((gmb.area * gmb.dm)/1e12).transpose(\"time\", \"y\", \"x\")"
   ]
  },
  {
   "cell_type": "code",
   "execution_count": 84,
   "metadata": {},
   "outputs": [],
   "source": [
    "# diff has one dimension less so we expand\n",
    "empty = np.expand_dims(np.empty(gmb.dm_gt.shape[1:3]), axis = 0)\n",
    "empty[:] = np.nan\n",
    "\n",
    "gmb[\"dm_gt_monthly\"] = (dims := (\"time\", \"y\", \"x\") , data := np.concatenate((empty, gmb.dm_gt.diff(dim = \"time\")), axis = 0))"
   ]
  },
  {
   "cell_type": "markdown",
   "metadata": {},
   "source": [
    "# Mass change in [Gt/month]"
   ]
  },
  {
   "cell_type": "code",
   "execution_count": null,
   "metadata": {},
   "outputs": [],
   "source": [
    "t = 150\n",
    "\n",
    "# Needs to be a dataset for this vis to work\n",
    "fig = go.Figure(go.Heatmap(\n",
    "    z = gmb.dm_gt_monthly[t].values,\n",
    "    # colorscale = 'RdBu',\n",
    "    colorscale = nasa_cscale,\n",
    "    zmid = 0,))\n",
    "\n",
    "fig.update_layout(\n",
    "    title = str(\"Antarcic mass change in month \") + str(gmb.dm_gt[t].time.values)[0:10],\n",
    ")\n",
    "\n",
    "fig.update_traces(colorbar_orientation = \"v\")\n",
    "fig.update_traces(colorbar_title = \"Gt\")\n",
    "fig.update_traces(colorbar_len = 0.7)\n",
    "\n",
    "fig.update_layout(\n",
    "    height = 800,\n",
    "    width = 800,\n",
    "    yaxis_scaleanchor = \"x\",\n",
    ")\n",
    "\n",
    "fig.update_xaxes(visible = False)\n",
    "fig.update_yaxes(visible = False)\n",
    "\n",
    "fig.update_layout(template = \"plotly_white\")\n",
    "fig.update_layout(font_family = \"Lato\")\n",
    "\n",
    "fig.show()"
   ]
  },
  {
   "cell_type": "markdown",
   "metadata": {},
   "source": [
    "# Mass balance over time\n",
    "\n",
    "longer than a month"
   ]
  },
  {
   "cell_type": "code",
   "execution_count": null,
   "metadata": {},
   "outputs": [],
   "source": [
    "# 0 value is nan so start at 1\n",
    "t_start = 1\n",
    "t_end = 200\n",
    "\n",
    "# Needs to be a dataset for this vis to work\n",
    "fig = go.Figure(go.Heatmap(\n",
    "    z = gmb.dm_gt_monthly[t_start : t_end].values.sum(axis = 0),\n",
    "    # colorscale = 'RdBu',\n",
    "    colorscale = nasa_cscale,\n",
    "    zmid = 0,))\n",
    "\n",
    "fig.update_layout(\n",
    "    title = str(\"Antarcic mass balance from \") + str(gmb.dm_gt_monthly[t_start].time.values)[0:10] + str(\" to \") + str(gmb.dm_gt_monthly[t_end].time.values)[0:10],\n",
    ")\n",
    "\n",
    "fig.update_traces(colorbar_orientation = \"v\")\n",
    "fig.update_traces(colorbar_title = \"Gt\")\n",
    "fig.update_traces(colorbar_len = 0.7)\n",
    "\n",
    "fig.update_layout(\n",
    "    height = 800,\n",
    "    width = 800,\n",
    "    yaxis_scaleanchor = \"x\",\n",
    ")\n",
    "\n",
    "fig.update_xaxes(visible = False)\n",
    "fig.update_yaxes(visible = False)\n",
    "\n",
    "fig.update_layout(template = \"plotly_white\")\n",
    "fig.update_layout(font_family = \"Lato\")\n",
    "\n",
    "fig.show()"
   ]
  },
  {
   "cell_type": "markdown",
   "metadata": {},
   "source": [
    "# Slider"
   ]
  },
  {
   "cell_type": "code",
   "execution_count": 115,
   "metadata": {},
   "outputs": [],
   "source": [
    "# range = - np.nanmin(gmb.dm_gt_monthly) + np.nanmax(gmb.dm_gt_monthly)\n",
    "\n",
    "# fix the colorscale to max cum.\n",
    "min = np.nanmin(gmb.dm_gt_monthly.sum(axis = 0))\n",
    "# max = np.nanmax(gmb.dm_gt_monthly.sum(axis = 0))"
   ]
  },
  {
   "cell_type": "code",
   "execution_count": null,
   "metadata": {},
   "outputs": [],
   "source": [
    "fig = go.Figure()\n",
    "\n",
    "# add a trace for each time step\n",
    "for i in np.arange(1, len(gmb.dm.time)):\n",
    "    fig.add_trace(go.Heatmap(\n",
    "        z = gmb.dm_gt_monthly[1:i].values.sum(axis = 0),\n",
    "        colorscale = nasa_cscale,\n",
    "        zmin = min,\n",
    "        zmax = - min, # max or -min\n",
    "        zmid = 0,\n",
    "    ))\n",
    "\n",
    "    fig.update_traces(colorbar_orientation = \"v\")\n",
    "    fig.update_traces(colorbar_title = \"Gt\")\n",
    "    fig.update_traces(colorbar_len = 0.7)\n",
    "\n",
    "    fig.update_layout(\n",
    "        height = 800,\n",
    "        width = 800,\n",
    "        yaxis_scaleanchor = \"x\",\n",
    "    )\n",
    "\n",
    "    fig.update_xaxes(visible = False)\n",
    "    fig.update_yaxes(visible = False)\n",
    "\n",
    "    fig.update_layout(template = \"plotly_white\")\n",
    "    fig.update_layout(font_family = \"Lato\")\n",
    "\n",
    "# Make 0th trace visible\n",
    "fig.data[0].visible = False\n",
    "\n",
    "# Create and add slider\n",
    "steps = []\n",
    "for i in np.arange(len(fig.data)):\n",
    "    step = dict(\n",
    "        method = \"update\",\n",
    "        args = [{\"visible\": [False] * len(fig.data)},\n",
    "              {\"title\": \"AIS mass balance in month: \" + str(gmb.dm[i].time.values)[0:10]}],  # layout attribute\n",
    "    )\n",
    "    step[\"args\"][0][\"visible\"][i] = True  # Toggle i'th trace to \"visible\"\n",
    "    steps.append(step)\n",
    "\n",
    "sliders = [dict(\n",
    "    active = 0,\n",
    "    currentvalue = {\"prefix\": \"Month: \"},\n",
    "    # pad = {\"t\": 10},\n",
    "    steps = steps\n",
    ")]\n",
    "\n",
    "fig.update_layout(\n",
    "    sliders = sliders\n",
    ")\n",
    "\n",
    "for i in np.arange(len(fig.data)):\n",
    "    fig['layout']['sliders'][0]['steps'][i]['label'] = str(i)\n",
    "\n",
    "fig.show()"
   ]
  }
 ],
 "metadata": {
  "kernelspec": {
   "display_name": ".conda-deepsensor",
   "language": "python",
   "name": "python3"
  },
  "language_info": {
   "codemirror_mode": {
    "name": "ipython",
    "version": 3
   },
   "file_extension": ".py",
   "mimetype": "text/x-python",
   "name": "python",
   "nbconvert_exporter": "python",
   "pygments_lexer": "ipython3",
   "version": "3.11.9"
  }
 },
 "nbformat": 4,
 "nbformat_minor": 2
}
