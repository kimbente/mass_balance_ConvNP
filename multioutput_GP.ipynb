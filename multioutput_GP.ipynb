{
 "cells": [
  {
   "cell_type": "code",
   "execution_count": null,
   "metadata": {},
   "outputs": [],
   "source": []
  },
  {
   "cell_type": "markdown",
   "metadata": {},
   "source": [
    "- Test fix of NN kernel as is has shown to be usefull in other works\n",
    "- heteroscedastic noise: \n",
    "- MTGP: shared covariance function and shared paraemtrisation or not?"
   ]
  }
 ],
 "metadata": {
  "language_info": {
   "name": "python"
  }
 },
 "nbformat": 4,
 "nbformat_minor": 2
}
