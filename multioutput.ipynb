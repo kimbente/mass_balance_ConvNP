{
 "cells": [
  {
   "cell_type": "markdown",
   "metadata": {},
   "source": [
    "# Multi-output GP\n",
    "\n",
    "We follow this GPyTorch example/tutorial which is based on Bonilla 2007. \n",
    "\n",
    "https://docs.gpytorch.ai/en/stable/examples/03_Multitask_Exact_GPs/Multitask_GP_Regression.html\n",
    "\n",
    "We have a free form matrix that is multiplied by the covariance matrix\n",
    "https://predictivesciencelab.github.io/data-analytics-se/lecture22/hands-on-22.3.html "
   ]
  },
  {
   "cell_type": "code",
   "execution_count": 1,
   "metadata": {},
   "outputs": [],
   "source": [
    "# download to /home/kim/mass_balance_ConvNP/.conda-deepsensor conda environment\n",
    "import math\n",
    "import torch\n",
    "import gpytorch\n",
    "from matplotlib import pyplot as plt\n",
    "\n",
    "%matplotlib inline\n",
    "# Avoiding Restarting the Kernel, if we are working in a module (.py file) (because we are developing it for example) it is updated\n",
    "%load_ext autoreload\n",
    "%autoreload 2\n",
    "# Reload all modules (except those excluded by %aimport) every time before executing the Python code typed."
   ]
  },
  {
   "cell_type": "markdown",
   "metadata": {},
   "source": [
    "## Replicate example"
   ]
  },
  {
   "cell_type": "code",
   "execution_count": 23,
   "metadata": {},
   "outputs": [
    {
     "name": "stdout",
     "output_type": "stream",
     "text": [
      "torch.Size([100, 2])\n",
      "mean values:\n",
      "tensor([0.0497, 0.0093])\n"
     ]
    }
   ],
   "source": [
    "# Input space\n",
    "train_x = torch.linspace(0, 1, 100)\n",
    "# train_x = torch.linspace(0, 2, 200)\n",
    "\n",
    "# sine and cosine functions\n",
    "# uncorrelated: 0 MO correlation coef\n",
    "train_y = torch.stack([\n",
    "   torch.sin(train_x * (2 * math.pi)) + torch.randn(train_x.size()) * 0.4,\n",
    "   torch.cos(train_x * (2 * math.pi)) + torch.randn(train_x.size()) * 0.4,\n",
    "], -1)\n",
    "\n",
    "\n",
    "# Same: 1 MO correlation coef\n",
    "\"\"\"\n",
    "train_y = torch.stack([\n",
    "    torch.sin(train_x * (2 * math.pi)) + torch.randn(train_x.size()) * 0.2,\n",
    "    torch.sin(train_x * (2 * math.pi)) + torch.randn(train_x.size()) * 0.2,\n",
    "], -1)\n",
    "\"\"\"\n",
    "\n",
    "# sine and -sine functions\n",
    "# -1 MO correlation coef\n",
    "\"\"\"\n",
    "train_y = torch.stack([\n",
    "    torch.sin(train_x * (2 * math.pi)) + torch.randn(train_x.size()) * 0.2,\n",
    "    -1*(torch.sin(train_x * (2 * math.pi)) + torch.randn(train_x.size()) * 0.2),\n",
    " ], -1)\n",
    "\"\"\"\n",
    "\n",
    "# Test Bonilla property: zero noise\n",
    "# sine and sine dependent but no noise\n",
    "# shifted and inflated sine function: 1 MO corr coef (perfect corr)\n",
    "\"\"\"\n",
    "train_y = torch.stack([\n",
    "    torch.sin(train_x * (2 * math.pi)) + torch.randn(train_x.size()) * 0.0,\n",
    "    1 + (1.1*(torch.sin(train_x * (2 * math.pi)) + torch.randn(train_x.size()) * 0.0)),\n",
    "], -1)\n",
    "\"\"\"\n",
    "\n",
    "# 2-output GP\n",
    "print(train_y.shape)\n",
    "print(\"mean values:\")\n",
    "print(train_y.mean(dim = 0))"
   ]
  },
  {
   "cell_type": "code",
   "execution_count": 25,
   "metadata": {},
   "outputs": [
    {
     "data": {
      "text/plain": [
       "tensor([[ 1.0000, -0.0024],\n",
       "        [-0.0024,  1.0000]])"
      ]
     },
     "execution_count": 25,
     "metadata": {},
     "output_type": "execute_result"
    }
   ],
   "source": [
    "# Correlation coefficient\n",
    "torch.corrcoef(train_y.T)"
   ]
  },
  {
   "cell_type": "markdown",
   "metadata": {},
   "source": [
    "## Intrinsic model of coregionalization (ICM)"
   ]
  },
  {
   "cell_type": "code",
   "execution_count": 26,
   "metadata": {},
   "outputs": [],
   "source": [
    "# Initialise an exact GP model\n",
    "class MultitaskGPModel(gpytorch.models.ExactGP):\n",
    "    def __init__(self, train_x, train_y, likelihood):\n",
    "        super(MultitaskGPModel, self).__init__(train_x, train_y, likelihood)\n",
    "\n",
    "        # Wrap mean in multitask mean\n",
    "        self.mean_module = gpytorch.means.MultitaskMean(\n",
    "            gpytorch.means.ZeroMean(), num_tasks = 2\n",
    "        )\n",
    "        # self.mean_module = gpytorch.means.MultitaskMean(\n",
    "        #    gpytorch.means.ConstantMean(), num_tasks = 2\n",
    "        #)\n",
    "\n",
    "        # Already does scaling for us\n",
    "        # Full rank: number of tasks\n",
    "        self.covar_module = gpytorch.kernels.MultitaskKernel(\n",
    "            gpytorch.kernels.RBFKernel(), num_tasks = 2, rank = 2\n",
    "        )\n",
    "\n",
    "    def forward(self, x):\n",
    "        mean_x = self.mean_module(x)\n",
    "        covar_x = self.covar_module(x)\n",
    "        return gpytorch.distributions.MultitaskMultivariateNormal(mean_x, covar_x)\n",
    "\n",
    "# cross-task covariance structure (is the noise correlated?) for the noise or independent noise for each task\n",
    "# rank = 0: strictly diagonal noise (This is the default.) But individual noise for each task.\n",
    "likelihood = gpytorch.likelihoods.MultitaskGaussianLikelihood(num_tasks = 2, rank = 0)\n",
    "model = MultitaskGPModel(train_x, train_y, likelihood)"
   ]
  },
  {
   "cell_type": "markdown",
   "metadata": {},
   "source": [
    "## Training\n",
    "\n",
    "- 50 iterations\n",
    "- ConstantMean() reaches - 0.096 likelihood"
   ]
  },
  {
   "cell_type": "code",
   "execution_count": 27,
   "metadata": {},
   "outputs": [
    {
     "name": "stdout",
     "output_type": "stream",
     "text": [
      "Iter 1/100 - Loss: 1.230\n",
      "Iter 2/100 - Loss: 1.197\n",
      "Iter 3/100 - Loss: 1.165\n",
      "Iter 4/100 - Loss: 1.132\n",
      "Iter 5/100 - Loss: 1.098\n",
      "Iter 6/100 - Loss: 1.064\n",
      "Iter 7/100 - Loss: 1.030\n",
      "Iter 8/100 - Loss: 0.995\n",
      "Iter 9/100 - Loss: 0.961\n",
      "Iter 10/100 - Loss: 0.928\n",
      "Iter 11/100 - Loss: 0.896\n",
      "Iter 12/100 - Loss: 0.865\n",
      "Iter 13/100 - Loss: 0.834\n",
      "Iter 14/100 - Loss: 0.803\n",
      "Iter 15/100 - Loss: 0.773\n",
      "Iter 16/100 - Loss: 0.744\n",
      "Iter 17/100 - Loss: 0.716\n",
      "Iter 18/100 - Loss: 0.690\n",
      "Iter 19/100 - Loss: 0.666\n",
      "Iter 20/100 - Loss: 0.644\n",
      "Iter 21/100 - Loss: 0.625\n",
      "Iter 22/100 - Loss: 0.609\n",
      "Iter 23/100 - Loss: 0.595\n",
      "Iter 24/100 - Loss: 0.584\n",
      "Iter 25/100 - Loss: 0.575\n",
      "Iter 26/100 - Loss: 0.570\n",
      "Iter 27/100 - Loss: 0.566\n",
      "Iter 28/100 - Loss: 0.566\n",
      "Iter 29/100 - Loss: 0.566\n",
      "Iter 30/100 - Loss: 0.569\n",
      "Iter 31/100 - Loss: 0.572\n",
      "Iter 32/100 - Loss: 0.575\n",
      "Iter 33/100 - Loss: 0.579\n",
      "Iter 34/100 - Loss: 0.582\n",
      "Iter 35/100 - Loss: 0.584\n",
      "Iter 36/100 - Loss: 0.585\n",
      "Iter 37/100 - Loss: 0.585\n",
      "Iter 38/100 - Loss: 0.584\n",
      "Iter 39/100 - Loss: 0.582\n",
      "Iter 40/100 - Loss: 0.580\n",
      "Iter 41/100 - Loss: 0.577\n",
      "Iter 42/100 - Loss: 0.574\n",
      "Iter 43/100 - Loss: 0.572\n",
      "Iter 44/100 - Loss: 0.570\n",
      "Iter 45/100 - Loss: 0.568\n",
      "Iter 46/100 - Loss: 0.566\n",
      "Iter 47/100 - Loss: 0.565\n",
      "Iter 48/100 - Loss: 0.565\n",
      "Iter 49/100 - Loss: 0.564\n",
      "Iter 50/100 - Loss: 0.564\n",
      "Iter 51/100 - Loss: 0.565\n",
      "Iter 52/100 - Loss: 0.565\n",
      "Iter 53/100 - Loss: 0.565\n",
      "Iter 54/100 - Loss: 0.566\n",
      "Iter 55/100 - Loss: 0.566\n",
      "Iter 56/100 - Loss: 0.566\n",
      "Iter 57/100 - Loss: 0.567\n",
      "Iter 58/100 - Loss: 0.567\n",
      "Iter 59/100 - Loss: 0.567\n",
      "Iter 60/100 - Loss: 0.566\n",
      "Iter 61/100 - Loss: 0.566\n",
      "Iter 62/100 - Loss: 0.566\n",
      "Iter 63/100 - Loss: 0.566\n",
      "Iter 64/100 - Loss: 0.565\n",
      "Iter 65/100 - Loss: 0.565\n",
      "Iter 66/100 - Loss: 0.565\n",
      "Iter 67/100 - Loss: 0.565\n",
      "Iter 68/100 - Loss: 0.564\n",
      "Iter 69/100 - Loss: 0.564\n",
      "Iter 70/100 - Loss: 0.564\n",
      "Iter 71/100 - Loss: 0.564\n",
      "Iter 72/100 - Loss: 0.564\n",
      "Iter 73/100 - Loss: 0.564\n",
      "Iter 74/100 - Loss: 0.564\n",
      "Iter 75/100 - Loss: 0.564\n",
      "Iter 76/100 - Loss: 0.564\n",
      "Iter 77/100 - Loss: 0.564\n",
      "Iter 78/100 - Loss: 0.564\n",
      "Iter 79/100 - Loss: 0.564\n",
      "Iter 80/100 - Loss: 0.564\n",
      "Iter 81/100 - Loss: 0.564\n",
      "Iter 82/100 - Loss: 0.564\n",
      "Iter 83/100 - Loss: 0.564\n",
      "Iter 84/100 - Loss: 0.564\n",
      "Iter 85/100 - Loss: 0.564\n",
      "Iter 86/100 - Loss: 0.564\n",
      "Iter 87/100 - Loss: 0.564\n",
      "Iter 88/100 - Loss: 0.564\n",
      "Iter 89/100 - Loss: 0.564\n",
      "Iter 90/100 - Loss: 0.564\n",
      "Iter 91/100 - Loss: 0.564\n",
      "Iter 92/100 - Loss: 0.564\n",
      "Iter 93/100 - Loss: 0.564\n",
      "Iter 94/100 - Loss: 0.564\n",
      "Iter 95/100 - Loss: 0.564\n",
      "Iter 96/100 - Loss: 0.564\n",
      "Iter 97/100 - Loss: 0.564\n",
      "Iter 98/100 - Loss: 0.564\n",
      "Iter 99/100 - Loss: 0.564\n",
      "Iter 100/100 - Loss: 0.564\n"
     ]
    }
   ],
   "source": [
    "# this is for running the notebook in our testing framework\n",
    "import os\n",
    "# Continuous Integration (CI) environment\n",
    "smoke_test = ('CI' in os.environ)\n",
    "training_iterations = 2 if smoke_test else 100 # pretty much stagnates after 50 iterations\n",
    "\n",
    "# Find optimal model hyperparameters\n",
    "model.train()\n",
    "likelihood.train()\n",
    "\n",
    "# Use the adam optimizer\n",
    "optimizer = torch.optim.Adam(model.parameters(), lr = 0.1)  # Includes GaussianLikelihood parameters\n",
    "\n",
    "# \"Loss\" for GPs - the marginal log likelihood\n",
    "mll = gpytorch.mlls.ExactMarginalLogLikelihood(likelihood, model)\n",
    "\n",
    "for i in range(training_iterations):\n",
    "    optimizer.zero_grad()\n",
    "    output = model(train_x)\n",
    "    loss = - mll(output, train_y)\n",
    "    loss.backward()\n",
    "    print('Iter %d/%d - Loss: %.3f' % (i + 1, training_iterations, loss.item()))\n",
    "    optimizer.step()"
   ]
  },
  {
   "cell_type": "markdown",
   "metadata": {},
   "source": [
    "# Make predictions"
   ]
  },
  {
   "cell_type": "code",
   "execution_count": 28,
   "metadata": {},
   "outputs": [
    {
     "data": {
      "text/plain": [
       "Text(0.5, 1.0, 'Observed Values (Likelihood)')"
      ]
     },
     "execution_count": 28,
     "metadata": {},
     "output_type": "execute_result"
    },
    {
     "data": {
      "image/png": "[encoded data removed]",
      "text/plain": [
       "<Figure size 800x300 with 2 Axes>"
      ]
     },
     "metadata": {},
     "output_type": "display_data"
    }
   ],
   "source": [
    "# Set into eval mode\n",
    "model.eval()\n",
    "likelihood.eval()\n",
    "\n",
    "# Initialize plots\n",
    "f, (y1_ax, y2_ax) = plt.subplots(1, 2, figsize=(8, 3))\n",
    "\n",
    "# Make predictions\n",
    "with torch.no_grad(), gpytorch.settings.fast_pred_var():\n",
    "    test_x = torch.linspace(0, 1, 51)\n",
    "    predictions = likelihood(model(test_x))\n",
    "    mean = predictions.mean\n",
    "    lower, upper = predictions.confidence_region()\n",
    "\n",
    "# This contains predictions for both tasks, flattened out\n",
    "# The first half of the predictions is for the first task\n",
    "# The second half is for the second task\n",
    "\n",
    "# Plot training data as black stars\n",
    "y1_ax.plot(train_x.detach().numpy(), train_y[:, 0].detach().numpy(), 'k*')\n",
    "# Predictive mean as blue line\n",
    "y1_ax.plot(test_x.numpy(), mean[:, 0].numpy(), 'b')\n",
    "# Shade in confidence\n",
    "y1_ax.fill_between(test_x.numpy(), lower[:, 0].numpy(), upper[:, 0].numpy(), alpha=0.5)\n",
    "y1_ax.set_ylim([-3, 3])\n",
    "y1_ax.legend(['Observed Data', 'Mean', 'Confidence'])\n",
    "y1_ax.set_title('Observed Values (Likelihood)')\n",
    "\n",
    "# Plot training data as black stars\n",
    "y2_ax.plot(train_x.detach().numpy(), train_y[:, 1].detach().numpy(), 'k*')\n",
    "# Predictive mean as blue line\n",
    "y2_ax.plot(test_x.numpy(), mean[:, 1].numpy(), 'b')\n",
    "# Shade in confidence\n",
    "y2_ax.fill_between(test_x.numpy(), lower[:, 1].numpy(), upper[:, 1].numpy(), alpha=0.5)\n",
    "y2_ax.set_ylim([-3, 3])\n",
    "y2_ax.legend(['Observed Data', 'Mean', 'Confidence'])\n",
    "y2_ax.set_title('Observed Values (Likelihood)')"
   ]
  },
  {
   "cell_type": "markdown",
   "metadata": {},
   "source": [
    "## Parameters and their meaning"
   ]
  },
  {
   "cell_type": "code",
   "execution_count": 29,
   "metadata": {},
   "outputs": [
    {
     "name": "stdout",
     "output_type": "stream",
     "text": [
      "Parameter: likelihood.raw_task_noises, Value: tensor([-2.4611, -2.6346])\n",
      "Parameter: likelihood.raw_noise, Value: tensor([-2.5475])\n",
      "Parameter: covar_module.task_covar_module.covar_factor, Value: tensor([[ 0.2407,  0.2853],\n",
      "        [ 0.3431, -0.2353]])\n",
      "Parameter: covar_module.task_covar_module.raw_var, Value: tensor([-0.8160, -0.3650])\n",
      "Parameter: covar_module.data_covar_module.raw_lengthscale, Value: tensor([[-1.2503]])\n"
     ]
    }
   ],
   "source": [
    "# Assume model is your trained GPyTorch model\n",
    "for name, param in model.named_parameters():\n",
    "    print(f\"Parameter: {name}, Value: {param.data}\")"
   ]
  },
  {
   "cell_type": "markdown",
   "metadata": {},
   "source": [
    "### model.likelihood.task_noise_covar_factor\n",
    "- likelihood.task_noise_covar_factor: (when likelihood rank = 1 [2, 1], rank = 2: [2, 2], rank = 3: [2, 3]: full rank?!)  \n",
    "OR\n",
    "- likelihood.raw_task_noises: individual noise levels (when likelihood rank = 0 [2, 1])\n",
    "- likelihood.raw_noise: diag(softplus(likelihood.raw_noise)) - somewhat redundant\n",
    "\n",
    "### model.covar_module.task_covar_module.covar_factor\n",
    "- covar_module.task_covar_module.covar_factor: dim of tasks, \"square root of K_t\"\n",
    "- covar_module.task_covar_module.raw_var: dim of tasks, additional diagonal variance\n",
    "\n",
    "Data covariance:\n",
    "- covar_module.data_covar_module.raw_lengthscale: shared, in base covaraince kernel, "
   ]
  },
  {
   "cell_type": "markdown",
   "metadata": {},
   "source": [
    "### Noise (co-)variance matrix"
   ]
  },
  {
   "cell_type": "code",
   "execution_count": 30,
   "metadata": {},
   "outputs": [
    {
     "name": "stdout",
     "output_type": "stream",
     "text": [
      "Noise task matrix:\n",
      "tensor([[0.0820, 0.0000],\n",
      "        [0.0000, 0.0694]])\n",
      "\n",
      "Added shared diagonal noise:\n",
      "tensor([[0.0755, 0.0000],\n",
      "        [0.0000, 0.0755]])\n",
      "\n",
      "Combined noise:\n",
      "tensor([[0.1575, 0.0000],\n",
      "        [0.0000, 0.1449]])\n"
     ]
    }
   ],
   "source": [
    "# noise covaraince case:\n",
    "# same as torch.nn.functional.softplus(model.likelihood.raw_noise)\n",
    "# print(\"Cross-noise matrix:\")\n",
    "# noise_covar = model.likelihood.task_noise_covar_factor.matmul(model.likelihood.task_noise_covar_factor.transpose(-1, -2)).detach()\n",
    "\n",
    "print(\"Noise task matrix:\")\n",
    "# don\"t use raw\n",
    "noise_ma = torch.diag_embed(model.likelihood.task_noises.detach())\n",
    "print(noise_ma)\n",
    "\n",
    "print()\n",
    "print(\"Added shared diagonal noise:\")\n",
    "D = model.likelihood.noise.detach() * torch.eye(2)\n",
    "print(D)\n",
    "\n",
    "print()\n",
    "print(\"Combined noise:\")\n",
    "print(noise_ma + D)"
   ]
  },
  {
   "cell_type": "markdown",
   "metadata": {},
   "source": [
    "### Task-covariance (coregionalization matrix)\n",
    "\n",
    "- Sine and - Sine: -1.1 cross-covaraince (off-diagonal negative values are ok) (same magnitude as variance)\n",
    "- W shape depends on the rank "
   ]
  },
  {
   "cell_type": "code",
   "execution_count": 31,
   "metadata": {},
   "outputs": [
    {
     "name": "stdout",
     "output_type": "stream",
     "text": [
      "Cross-task covariance matrix:\n",
      "tensor([[0.1394, 0.0155],\n",
      "        [0.0155, 0.1731]])\n",
      "\n",
      "Diagonal noise:\n",
      "tensor([[0.3662, 0.0000],\n",
      "        [0.0000, 0.5272]])\n",
      "\n",
      "Cross-task covariance matrix with diagonal noise added:\n",
      "tensor([[0.5055, 0.0155],\n",
      "        [0.0155, 0.7003]])\n",
      "\n",
      "Correlation coefficient between tasks:\n",
      "tensor(0.0260)\n"
     ]
    }
   ],
   "source": [
    "print(\"Cross-task covariance matrix:\")\n",
    "# Covar_factor itself is \"like the square root\" because we compose the matrix using (W (column vector) W^T (row vector)) (OUTER product) W may also be a matrix of shape task, rank\n",
    "print(model.covar_module.task_covar_module.covar_factor.data.matmul(model.covar_module.task_covar_module.covar_factor.data.transpose(-1, -2)))\n",
    "# Same as\n",
    "# print(model.covar_module.task_covar_module.covar_factor.data * model.covar_module.task_covar_module.covar_factor.data.T)\n",
    "\n",
    "print()\n",
    "print(\"Diagonal noise:\")\n",
    "print(torch.diag_embed(torch.nn.functional.softplus(model.covar_module.task_covar_module.raw_var.data)))\n",
    "# Add raw variance to the diagonal\n",
    "# torch.nn.Softplus(model.covar_module.task_covar_module.raw_var.data) \n",
    "\n",
    "print()\n",
    "print(\"Cross-task covariance matrix with diagonal noise added:\")\n",
    "B = model.covar_module.task_covar_module.covar_factor.data.matmul(model.covar_module.task_covar_module.covar_factor.data.transpose(-1, -2)) + torch.diag_embed(torch.nn.functional.softplus(model.covar_module.task_covar_module.raw_var.data))\n",
    "print(B)\n",
    "\n",
    "print()\n",
    "# model.covar_module.task_covar_module.var\n",
    "print(\"Correlation coefficient between tasks:\")\n",
    "corr_coeff = B[0,1] / torch.sqrt(B[0,0] * B[1,1])\n",
    "print(corr_coeff)"
   ]
  },
  {
   "cell_type": "code",
   "execution_count": 32,
   "metadata": {},
   "outputs": [
    {
     "name": "stdout",
     "output_type": "stream",
     "text": [
      "tensor([0.3662, 0.5272])\n",
      "tensor([0.3662, 0.5272])\n"
     ]
    }
   ],
   "source": [
    "# Softplus is correct\n",
    "print(torch.nn.functional.softplus(model.covar_module.task_covar_module.raw_var.data))\n",
    "# print(torch.exp(model.covar_module.task_covar_module.raw_var.data))\n",
    "\n",
    "# Test difference to exponential for larger values\n",
    "# For small (negative) values of h, the exponential function is close to the exponential function\n",
    "h = 0.0\n",
    "print(torch.nn.functional.softplus(model.covar_module.task_covar_module.raw_var.data + h))\n",
    "# print(torch.exp(model.covar_module.task_covar_module.raw_var.data + h))"
   ]
  },
  {
   "cell_type": "code",
   "execution_count": 33,
   "metadata": {},
   "outputs": [
    {
     "name": "stdout",
     "output_type": "stream",
     "text": [
      "RBF base kernel lengthscale:\n",
      "0.2518728971481323\n",
      "length scale: 0.252\n"
     ]
    }
   ],
   "source": [
    "model.covar_module.data_covar_module.raw_lengthscale\n",
    "\n",
    "print(\"RBF base kernel lengthscale:\")\n",
    "print(torch.nn.functional.softplus(model.covar_module.data_covar_module.raw_lengthscale).item())\n",
    "# Same as:\n",
    "# https://predictivesciencelab.github.io/data-analytics-se/lecture22/hands-on-22.3.html \n",
    "print(f\"length scale: {model.covar_module.data_covar_module.lengthscale.item():.3f}\")"
   ]
  },
  {
   "cell_type": "markdown",
   "metadata": {},
   "source": [
    "Information on parameters in the documentation:\n",
    "\n",
    "gpytorch.likelihoods.multitask_gaussian_likelihood\n",
    "https://docs.gpytorch.ai/en/stable/likelihoods.html#multi-dimensional-likelihoods\n",
    "https://docs.gpytorch.ai/en/v1.11/_modules/gpytorch/likelihoods/multitask_gaussian_likelihood.html\n",
    "\n",
    "gpytorch.kernels.MultitaskKernel\n",
    "https://docs.gpytorch.ai/en/stable/kernels.html#multitaskkernel\n",
    "uses look-up index kernel https://docs.gpytorch.ai/en/stable/kernels.html#indexkernel \n",
    "- model.covar_module.data_covar_module: base covariance module/data kernel\n",
    "- Kronecker product\n",
    "- raw_var is element-wise log of the v vector\n",
    "\n",
    "gpytorch.means.MultitaskMean \n",
    "https://docs.gpytorch.ai/en/stable/means.html#gpytorch.means.MultitaskMean \n",
    "- can pass in a list of different mean functions to have a different mean for every task\n",
    "\n",
    "### Very useful post\n",
    "https://github.com/cornellius-gp/gpytorch/issues/715   \n",
    "`K_{data} \\kron (covar_factor * covar_factor^{T} + diag(softplus(raw_var))`\n",
    "-  square root of the task covariance matrix\n",
    "- model.task_covar_module.covar_matrix just comes out of nowhere\n",
    "\n",
    "# From docs\n",
    "    `def _eval_covar_matrix(self) -> Tensor:\n",
    "        covar_factor = self.task_noise_covar_factor\n",
    "        noise = self.noise\n",
    "        D = noise * torch.eye(self.num_tasks, dtype=noise.dtype, device=noise.device)  # pyre-fixme[16]\n",
    "        return covar_factor.matmul(covar_factor.transpose(-1, -2)) + D`\n",
    "\n",
    "- https://github.com/cornellius-gp/gpytorch/issues/594\n",
    "- https://github.com/cornellius-gp/gpytorch/issues/1692"
   ]
  },
  {
   "cell_type": "markdown",
   "metadata": {},
   "source": [
    "Issues:\n",
    "\n",
    "- For a zero noise case the cross-covar does not collapse to zero"
   ]
  }
 ],
 "metadata": {
  "kernelspec": {
   "display_name": "Python 3",
   "language": "python",
   "name": "python3"
  },
  "language_info": {
   "codemirror_mode": {
    "name": "ipython",
    "version": 3
   },
   "file_extension": ".py",
   "mimetype": "text/x-python",
   "name": "python",
   "nbconvert_exporter": "python",
   "pygments_lexer": "ipython3",
   "version": "3.11.9"
  }
 },
 "nbformat": 4,
 "nbformat_minor": 2
}
