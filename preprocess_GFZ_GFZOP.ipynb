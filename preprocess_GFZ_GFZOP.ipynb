{
 "cells": [
  {
   "cell_type": "code",
   "execution_count": 3,
   "metadata": {},
   "outputs": [],
   "source": [
    "import xarray\n",
    "import numpy as np\n",
    "import pandas as pd\n",
    "import matplotlib as mpl\n",
    "import torch\n",
    "\n",
    "import matplotlib.pyplot as plt  # plotting library"
   ]
  },
  {
   "cell_type": "markdown",
   "metadata": {},
   "source": [
    "# Load GFZOP data\n",
    "\n",
    "- **Temporal coverage**: mid-month 2002-04 to mid-month 2023-12 (21.6 common years). THIS IS ONE MONTH LONGER THAN COST-G."
   ]
  },
  {
   "cell_type": "code",
   "execution_count": 10,
   "metadata": {},
   "outputs": [
    {
     "name": "stdout",
     "output_type": "stream",
     "text": [
      "657.1608685216995\n",
      "-1624.4898826812064\n",
      "-1384.2071486815198\n"
     ]
    }
   ],
   "source": [
    "# Load data\n",
    "gfzop = xarray.open_dataset(\n",
    "    \"/home/kim/new_massbalance/mass_balance_ConvNP/data/GRACE_GFZ/GRAVIS-3_2002095-2023365_GFZOP_0600_AIS_GRID_TUD_0003.nc\")\n",
    "\n",
    "# Convert to kg my multiplying by m^2, convert to gt by dividing by 1e12\n",
    "gfzop_gt_xda = (gfzop.area * gfzop.dm)/1e12\n",
    "\n",
    "# Sum for first and last time step to get the net mass change\n",
    "print(gfzop_gt_xda[:, :, 0].sum().item()) # prints 657.1608685216995\n",
    "print(gfzop_gt_xda[:, :, -2].sum().item()) # prints -1624.4898826812064\n",
    "print(gfzop_gt_xda[:, :, -1].sum().item()) # prints -1384.2071486815198"
   ]
  }
 ],
 "metadata": {
  "kernelspec": {
   "display_name": ".conda-deepsensor",
   "language": "python",
   "name": "python3"
  },
  "language_info": {
   "codemirror_mode": {
    "name": "ipython",
    "version": 3
   },
   "file_extension": ".py",
   "mimetype": "text/x-python",
   "name": "python",
   "nbconvert_exporter": "python",
   "pygments_lexer": "ipython3",
   "version": "3.11.9"
  }
 },
 "nbformat": 4,
 "nbformat_minor": 2
}
